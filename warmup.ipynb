{
  "nbformat": 4,
  "nbformat_minor": 0,
  "metadata": {
    "colab": {
      "provenance": []
    },
    "kernelspec": {
      "name": "python3",
      "display_name": "Python 3"
    },
    "language_info": {
      "name": "python"
    }
  },
  "cells": [
    {
      "cell_type": "markdown",
      "source": [
        "**SOLVE ME FIRST**\n",
        "\n",
        "Write the function solveMeFirst to compute the sum of two integers."
      ],
      "metadata": {
        "id": "o3g9mXWehVGo"
      }
    },
    {
      "cell_type": "code",
      "source": [
        "def solveMeFirst(a,b):\n",
        "  return a+b\n",
        "\n",
        "num1 = int(input(\"Enter the first number: \"))\n",
        "num2 = int(input(\"Enter the second number: \"))\n",
        "ans = solveMeFirst(num1, num2)\n",
        "print(f\"The sum of {num1} and {num2} is {ans}.\")"
      ],
      "metadata": {
        "colab": {
          "base_uri": "https://localhost:8080/"
        },
        "id": "FzU2WmF2hW1n",
        "outputId": "f13e20fb-88e2-45f7-d2e0-29f007734207"
      },
      "execution_count": 1,
      "outputs": [
        {
          "output_type": "stream",
          "name": "stdout",
          "text": [
            "Enter the first number: 3\n",
            "Enter the second number: 2\n",
            "The sum of 3 and 2 is 5.\n"
          ]
        }
      ]
    },
    {
      "cell_type": "markdown",
      "source": [
        "**SIMPLE ARRAY SUM**\n",
        "\n",
        "Given an array of integers, find the sum of its elements."
      ],
      "metadata": {
        "id": "Z34Qpu7EiR6e"
      }
    },
    {
      "cell_type": "code",
      "source": [
        "def simpleArraySum(ar):\n",
        " return sum(ar)\n",
        "\n",
        "n = int(input(\"Enter the number of elements in the array: \"))\n",
        "arr = list(map(int,input().split()))\n",
        "result = simpleArraySum(arr)\n",
        "print(f\"The sum of all the elements of the array is {result}.\")"
      ],
      "metadata": {
        "colab": {
          "base_uri": "https://localhost:8080/"
        },
        "id": "ZCM9Ugj1ihDQ",
        "outputId": "2b0b88ff-57a4-4169-edb7-3e4493bf03ad"
      },
      "execution_count": 3,
      "outputs": [
        {
          "output_type": "stream",
          "name": "stdout",
          "text": [
            "Enter the number of elements in the array: 3\n",
            "2 5 1\n",
            "The sum of all the elements of the array is 8.\n"
          ]
        }
      ]
    },
    {
      "cell_type": "markdown",
      "source": [
        "**A VERY BIG SUM**\n",
        "\n",
        "you are required to calculate and print the sum of the elements in an array, keeping in mind that some of those integers may be quite large"
      ],
      "metadata": {
        "id": "kL7mlfrejsqD"
      }
    },
    {
      "cell_type": "code",
      "source": [
        "def simpleArraySum(ar):\n",
        " return sum(ar)\n",
        "\n",
        "n = int(input(\"Enter the number of elements in the array: \"))\n",
        "arr = list(map(int,input().split()))\n",
        "result = simpleArraySum(arr)\n",
        "print(f\"The sum of all the elements of the array is {result}.\")"
      ],
      "metadata": {
        "colab": {
          "base_uri": "https://localhost:8080/"
        },
        "id": "HCfF_HDcj0Vp",
        "outputId": "be76b23a-71ab-4feb-8384-b379a59da97a"
      },
      "execution_count": 4,
      "outputs": [
        {
          "output_type": "stream",
          "name": "stdout",
          "text": [
            "Enter the number of elements in the array: 4\n",
            "1 23478965532 6 3\n",
            "The sum of all the elements of the array is 23478965542.\n"
          ]
        }
      ]
    },
    {
      "cell_type": "markdown",
      "source": [
        "**STAIRCASE**\n",
        "\n",
        "Write a program that prints a staircase of size ."
      ],
      "metadata": {
        "id": "9W-2LUyxkM4Z"
      }
    },
    {
      "cell_type": "code",
      "source": [
        "n = int(input(\"Enter the number: \"))\n",
        "for i in range(n):\n",
        " print(\"\"*(n-i-1)+ \"#\"*(i+1))"
      ],
      "metadata": {
        "colab": {
          "base_uri": "https://localhost:8080/"
        },
        "id": "KwWjXuYqkQ4K",
        "outputId": "d8797238-9923-4232-f3f6-dd017f90733d"
      },
      "execution_count": 11,
      "outputs": [
        {
          "output_type": "stream",
          "name": "stdout",
          "text": [
            "Enter the number: 3\n",
            "#\n",
            "##\n",
            "###\n"
          ]
        }
      ]
    }
  ]
}